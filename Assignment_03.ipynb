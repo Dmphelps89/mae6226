{
 "cells": [
  {
   "cell_type": "code",
   "execution_count": 43,
   "metadata": {
    "collapsed": false
   },
   "outputs": [],
   "source": [
    "import os\n",
    "import numpy\n",
    "import csv\n",
    "from scipy import integrate, linalg , optimize\n",
    "from matplotlib import pyplot\n",
    "%matplotlib inline"
   ]
  },
  {
   "cell_type": "code",
   "execution_count": 2,
   "metadata": {
    "collapsed": false
   },
   "outputs": [],
   "source": [
    "with open(\"resources/MainFoil_N=100.csv\") as filein:\n",
    "    reader = csv.reader(filein, quoting=csv.QUOTE_NONNUMERIC, skipinitialspace = True)\n",
    "    x1, y1 = zip(*reader)\n",
    "    x1 = numpy.asarray(x1)\n",
    "    y1 = numpy.asarray(y1)"
   ]
  },
  {
   "cell_type": "code",
   "execution_count": 3,
   "metadata": {
    "collapsed": false
   },
   "outputs": [],
   "source": [
    "with open(\"resources/FlapFoil_N=100.csv\") as filein:\n",
    "    reader = csv.reader(filein, quoting=csv.QUOTE_NONNUMERIC, skipinitialspace = True)\n",
    "    x2, y2 = zip(*reader)\n",
    "    x2 = numpy.asarray(x2)\n",
    "    y2 = numpy.asarray(y2)"
   ]
  },
  {
   "cell_type": "code",
   "execution_count": 4,
   "metadata": {
    "collapsed": false
   },
   "outputs": [
    {
     "data": {
      "image/png": "[encoded data removed]",
      "text/plain": [
       "<matplotlib.figure.Figure at 0x7f0ad5e26be0>"
      ]
     },
     "metadata": {},
     "output_type": "display_data"
    }
   ],
   "source": [
    "width = 10\n",
    "pyplot.figure(figsize=(width, width))\n",
    "pyplot.grid()\n",
    "pyplot.xlabel('x', fontsize=16)\n",
    "pyplot.ylabel('y', fontsize=16)\n",
    "pyplot.plot(x1, y1, x2, y2, color='k', linestyle='-', linewidth=2)\n",
    "pyplot.axis('scaled', adjustable='box')\n",
    "pyplot.xlim(-.1, 1.5);\n",
    "pyplot.ylim(-.25, .1);"
   ]
  },
  {
   "cell_type": "code",
   "execution_count": 5,
   "metadata": {
    "collapsed": true
   },
   "outputs": [],
   "source": [
    "class Panel:\n",
    "    \"\"\"\n",
    "    Contains information related to a panel.\n",
    "    \"\"\"\n",
    "    def __init__(self, xa, ya, xb, yb):\n",
    "        \"\"\"\n",
    "        Initializes the panel.\n",
    "        \n",
    "        Sets the end-points and calculates the center-point, length,\n",
    "        and angle (with the x-axis) of the panel.\n",
    "        Defines if the panel is located on the upper or lower surface of the geometry.\n",
    "        Initializes the source-strength, tangential velocity, and pressure coefficient\n",
    "        of the panel to zero.\n",
    "        \n",
    "        Parameters\n",
    "        ---------_\n",
    "        xa: float\n",
    "            x-coordinate of the first end-point.\n",
    "        ya: float\n",
    "            y-coordinate of the first end-point.\n",
    "        xb: float\n",
    "            x-coordinate of the second end-point.\n",
    "        yb: float\n",
    "            y-coordinate of the second end-point.\n",
    "        \"\"\"\n",
    "        self.xa, self.ya = xa, ya # panel starting-point\n",
    "        self.xb, self.yb = xb, yb # panel ending-point\n",
    "        \n",
    "        self.xc, self.yc = (xa+xb)/2, (ya+yb)/2         # panel center\n",
    "        self.length = numpy.sqrt((xb-xa)**2+(yb-ya)**2) # panel length\n",
    "        \n",
    "        # orientation of panel (angle between x-axis and panel's normal)\n",
    "        if xb-xa <= 0.0:\n",
    "            self.beta = numpy.arccos((yb-ya)/self.length)\n",
    "        elif xb-xa > 0.0:\n",
    "            self.beta = numpy.pi + numpy.arccos(-(yb-ya)/self.length)\n",
    "        \n",
    "        # panel location\n",
    "        if self.beta <= numpy.pi:\n",
    "            self.loc = 'upper' # upper surface\n",
    "        else:\n",
    "            self.loc = 'lower' # lower surface\n",
    "        \n",
    "        self.sigma = 0.0 # source strength\n",
    "        self.vt = 0.0    # tangential velocity\n",
    "        self.cp = 0.0    # pressure coefficient"
   ]
  },
  {
   "cell_type": "code",
   "execution_count": 6,
   "metadata": {
    "collapsed": true
   },
   "outputs": [],
   "source": [
    "def define_panels(x, y, N=40):\n",
    "    \"\"\"\n",
    "    Discretizes the geometry into panels eveningly over the surface of the geometery \n",
    "    \n",
    "    Parameters\n",
    "    ----------\n",
    "    x: 1D array of floats\n",
    "        x-coordinate of the points defining the geometry.\n",
    "    y: 1D array of floats\n",
    "        y-coordinate of the points defining the geometry.\n",
    "    N: integer, optional\n",
    "        Number of panels;\n",
    "        default: 40.\n",
    "    \n",
    "    Returns\n",
    "    -------\n",
    "    panels: 1D Numpy array of Panel objects.\n",
    "        The list of panels.\n",
    "    \"\"\"\n",
    "\n",
    "    # create panels\n",
    "    panels = numpy.empty(N, dtype=object)\n",
    "    \n",
    "    for i in range(N):\n",
    "        panels[i] = Panel(x[i], y[i], x[i+1], y[i+1])\n",
    "    \n",
    "    return panels"
   ]
  },
  {
   "cell_type": "code",
   "execution_count": 7,
   "metadata": {
    "collapsed": false
   },
   "outputs": [],
   "source": [
    "panels1 = define_panels(x1,y1,N=(x1.size-1))\n",
    "panels2 = define_panels(x2,y2,N=(x2.size-1))\n",
    "panels = numpy.concatenate((panels1, panels2))"
   ]
  },
  {
   "cell_type": "code",
   "execution_count": 8,
   "metadata": {
    "collapsed": false
   },
   "outputs": [
    {
     "data": {
      "image/png": "[encoded data removed]",
      "text/plain": [
       "<matplotlib.figure.Figure at 0x7f0ad6374198>"
      ]
     },
     "metadata": {},
     "output_type": "display_data"
    }
   ],
   "source": [
    "width = 10\n",
    "pyplot.figure(figsize=(width, width))\n",
    "pyplot.grid()\n",
    "pyplot.xlabel('x', fontsize=16)\n",
    "pyplot.ylabel('y', fontsize=16)\n",
    "pyplot.plot(x1, y1,x2,y2, color='k', linestyle='-', linewidth=2)\n",
    "pyplot.scatter([panel.xa for panel in panels1],[panel.ya for panel in panels1], color='#CD2305')\n",
    "pyplot.scatter([panel.xa for panel in panels2],[panel.ya for panel in panels2],color='#CD2305'),\n",
    "pyplot.axis('scaled', adjustable='box')\n",
    "pyplot.xlim(-0.1, 1.4)\n",
    "pyplot.ylim(-0.25, 0.1);"
   ]
  },
  {
   "cell_type": "code",
   "execution_count": 9,
   "metadata": {
    "collapsed": true
   },
   "outputs": [],
   "source": [
    "class Freestream:\n",
    "    \"\"\"\n",
    "    Freestream conditions.\n",
    "    \"\"\"\n",
    "    def __init__(self, u_inf=1.0, alpha=0.0):\n",
    "        \"\"\"\n",
    "        Sets the freestream speed and angle (in degrees).\n",
    "        \n",
    "        Parameters\n",
    "        ----------\n",
    "        u_inf: float, optional\n",
    "            Freestream speed;\n",
    "            default: 1.0.\n",
    "        alpha: float, optional\n",
    "            Angle of attack in degrees;\n",
    "            default 0.0.\n",
    "        \"\"\"\n",
    "        self.u_inf = u_inf\n",
    "        self.alpha = alpha*numpy.pi/180.0 # degrees to radians"
   ]
  },
  {
   "cell_type": "code",
   "execution_count": 10,
   "metadata": {
    "collapsed": false
   },
   "outputs": [],
   "source": [
    "# set freestream\n",
    "# define freestream conditions\n",
    "freestream = Freestream(u_inf=1.0, alpha=0.0)"
   ]
  },
  {
   "cell_type": "code",
   "execution_count": 11,
   "metadata": {
    "collapsed": true
   },
   "outputs": [],
   "source": [
    "def integral(x, y, panel, dxdk, dydk):\n",
    "    \"\"\"\n",
    "    Evaluates the contribution from a panel at a given point.\n",
    "    \n",
    "    Parameters\n",
    "    ----------\n",
    "    x: float\n",
    "        x-coordinate of the target point.\n",
    "    y: float\n",
    "        y-coordinate of the target point.\n",
    "    panel: Panel object\n",
    "        Panel whose contribution is evaluated.\n",
    "    dxdk: float\n",
    "        Value of the derivative of x in a certain direction.\n",
    "    dydk: float\n",
    "        Value of the derivative of y in a certain direction.\n",
    "    \n",
    "    Returns\n",
    "    -------\n",
    "    Contribution from the panel at a given point (x, y).\n",
    "    \"\"\"\n",
    "    def integrand(s):\n",
    "        return  ( ((x - (panel.xa - numpy.sin(panel.beta)*s))*dxdk\n",
    "                  +(y - (panel.ya + numpy.cos(panel.beta)*s))*dydk)\n",
    "                / ((x - (panel.xa - numpy.sin(panel.beta)*s))**2\n",
    "                  +(y - (panel.ya + numpy.cos(panel.beta)*s))**2) )\n",
    "    return integrate.quad(integrand, 0.0, panel.length)[0]"
   ]
  },
  {
   "cell_type": "code",
   "execution_count": 12,
   "metadata": {
    "collapsed": true
   },
   "outputs": [],
   "source": [
    "def source_contribution_normal(panels):\n",
    "    \"\"\"\n",
    "    Builds the source contribution matrix for the normal velocity.\n",
    "    \n",
    "    Parameters\n",
    "    ----------\n",
    "    panels: 1D array of Panel objects\n",
    "        List of panels.\n",
    "    \n",
    "    Returns\n",
    "    -------\n",
    "    A: 2D Numpy array of floats\n",
    "        Source contribution matrix.\n",
    "    \"\"\"\n",
    "    A = numpy.empty((panels.size, panels.size), dtype=float)\n",
    "    # source contribution on a panel from itself\n",
    "    numpy.fill_diagonal(A, 0.5)\n",
    "    # source contribution on a panel from others\n",
    "    for i, panel_i in enumerate(panels):\n",
    "        for j, panel_j in enumerate(panels):\n",
    "            if i != j:\n",
    "                A[i, j] = 0.5/numpy.pi*integral(panel_i.xc, panel_i.yc, \n",
    "                                                panel_j,\n",
    "                                                numpy.cos(panel_i.beta),\n",
    "                                                numpy.sin(panel_i.beta))\n",
    "    return A"
   ]
  },
  {
   "cell_type": "code",
   "execution_count": 13,
   "metadata": {
    "collapsed": true
   },
   "outputs": [],
   "source": [
    "def vortex_contribution_normal(panels):\n",
    "    \"\"\"\n",
    "    Builds the vortex contribution matrix for the normal velocity.\n",
    "    \n",
    "    Parameters\n",
    "    ----------\n",
    "    panels: 1D array of Panel objects\n",
    "        List of panels.\n",
    "    \n",
    "    Returns\n",
    "    -------\n",
    "    A: 2D Numpy array of floats\n",
    "        Vortex contribution matrix.\n",
    "    \"\"\"\n",
    "    A = numpy.empty((panels.size, panels.size), dtype=float)\n",
    "    # vortex contribution on a panel from itself\n",
    "    numpy.fill_diagonal(A, 0.0)\n",
    "    # vortex contribution on a panel from others\n",
    "    for i, panel_i in enumerate(panels):\n",
    "        for j, panel_j in enumerate(panels):\n",
    "            if i != j:\n",
    "                A[i, j] = -0.5/numpy.pi*integral(panel_i.xc, panel_i.yc, \n",
    "                                                 panel_j,\n",
    "                                                 numpy.sin(panel_i.beta),\n",
    "                                                 -numpy.cos(panel_i.beta))\n",
    "    return A"
   ]
  },
  {
   "cell_type": "code",
   "execution_count": 14,
   "metadata": {
    "collapsed": false
   },
   "outputs": [],
   "source": [
    "A_source = source_contribution_normal(panels)\n",
    "B_vortex = vortex_contribution_normal(panels)"
   ]
  },
  {
   "cell_type": "code",
   "execution_count": 15,
   "metadata": {
    "collapsed": false
   },
   "outputs": [
    {
     "data": {
      "text/plain": [
       "200"
      ]
     },
     "execution_count": 15,
     "metadata": {},
     "output_type": "execute_result"
    }
   ],
   "source": [
    "panels.size"
   ]
  },
  {
   "cell_type": "code",
   "execution_count": 16,
   "metadata": {
    "collapsed": false
   },
   "outputs": [
    {
     "data": {
      "text/plain": [
       "200"
      ]
     },
     "execution_count": 16,
     "metadata": {},
     "output_type": "execute_result"
    }
   ],
   "source": [
    "B_vortex.shape[0]"
   ]
  },
  {
   "cell_type": "code",
   "execution_count": 17,
   "metadata": {
    "collapsed": true
   },
   "outputs": [],
   "source": [
    "def kutta_condition(A_source, B_vortex):   # NOT DONE\n",
    "    \"\"\"\n",
    "    Builds the Kutta condition array.\n",
    "    \n",
    "    Parameters\n",
    "    ----------\n",
    "    A_source: 2D Numpy array of floats\n",
    "        Source contribution matrix for the normal velocity.\n",
    "    B_vortex: 2D Numpy array of floats\n",
    "        Vortex contribution matrix for the normal velocity.\n",
    "    \n",
    "    Returns\n",
    "    -------\n",
    "    b: 2D Numpy array of floats\n",
    "        The left-hand side of the Kutta-condition equation.\n",
    "    \"\"\"\n",
    "    N = A_source.shape[0]\n",
    "    k = numpy.empty([2,int(N+2)], dtype=float)\n",
    "    k_temp = numpy.empty([int(N+2),int(N+2)])\n",
    "    k_temp[:N,:N] = B_vortex\n",
    "    k_temp[:N,-2] = -numpy.sum(A_source[:,:int(N/2)], axis = 1)\n",
    "    k_temp[:N,-1] = -numpy.sum(A_source[:,int(N/2):], axis = 1)\n",
    "    \n",
    "    \n",
    "    k[0,:] = k_temp[0,:] + k_temp[int(N/2)-1,:]\n",
    "    k[1,:] = k_temp[int(N/2),:] + k_temp[-1,:]\n",
    "\n",
    "    \n",
    "    return k"
   ]
  },
  {
   "cell_type": "code",
   "execution_count": 18,
   "metadata": {
    "collapsed": false
   },
   "outputs": [],
   "source": [
    "def matrix(panels,A_source,B_vortex):\n",
    "    N = A_source.shape[0]\n",
    "    A = numpy.empty((A_source.shape[0]+2,A_source.shape[1]+2),dtype=float)\n",
    "    A[:-2,:-2] = A_source\n",
    "    #airfoil vortex contribution\n",
    "    A[:-2,-2] = numpy.sum(B_vortex[:,:int(N/2)], axis = 1)\n",
    "    #flap vortex contribution\n",
    "    A[:-2,-1] = numpy.sum(B_vortex[:,int(N/2):], axis = 1)\n",
    "    #airfoil/foil kutta condition\n",
    "    A[-2:,:] = kutta_condition(A_source,B_vortex)\n",
    "    \n",
    "    return A"
   ]
  },
  {
   "cell_type": "code",
   "execution_count": 19,
   "metadata": {
    "collapsed": true
   },
   "outputs": [],
   "source": [
    "def build_freestream_rhs(panels, freestream):\n",
    "    \"\"\"\n",
    "    Builds the right-hand side of the system \n",
    "    arising from the freestream contribution.\n",
    "    \n",
    "    Parameters\n",
    "    ----------\n",
    "    panels: 1D array of Panel objects\n",
    "        List of panels.\n",
    "    freestream: Freestream object\n",
    "        Freestream conditions.\n",
    "    \n",
    "    Returns\n",
    "    -------\n",
    "    b: 1D Numpy array of floats\n",
    "        Freestream contribution on each panel and on the Kutta condition.\n",
    "    \"\"\"\n",
    "    N = numpy.shape(panels)[0]\n",
    "    b = numpy.empty(N+2,dtype=float)\n",
    "    # freestream contribution on each panel\n",
    "    for i, panel in enumerate(panels):\n",
    "        b[i] = -freestream.u_inf * numpy.cos(freestream.alpha - panel.beta)\n",
    "    # freestream contribution on the Kutta condition for airfoil\n",
    "    b[-2] = -freestream.u_inf*( numpy.sin(freestream.alpha-panels[0].beta)\n",
    "                               +numpy.sin(freestream.alpha-panels[int(N/2)-1].beta) )\n",
    "    # freesteam contribution on the Kutta condition for flap\n",
    "    b[-1] = -freestream.u_inf*( numpy.sin(freestream.alpha-panels[int(N/2)].beta)\n",
    "                               +numpy.sin(freestream.alpha-panels[int(N)-1].beta) )\n",
    "    return b"
   ]
  },
  {
   "cell_type": "code",
   "execution_count": 20,
   "metadata": {
    "collapsed": false
   },
   "outputs": [],
   "source": [
    "A = matrix(panels,A_source,B_vortex)\n",
    "b = build_freestream_rhs(panels,freestream)"
   ]
  },
  {
   "cell_type": "code",
   "execution_count": 21,
   "metadata": {
    "collapsed": false
   },
   "outputs": [],
   "source": [
    "strengths = numpy.linalg.solve(A,b)\n",
    "\n",
    "for i , panel in enumerate(panels):\n",
    "    panel.sigma = strengths[i]\n",
    "gamma = strengths[-2:]"
   ]
  },
  {
   "cell_type": "code",
   "execution_count": 22,
   "metadata": {
    "collapsed": true
   },
   "outputs": [],
   "source": [
    "def compute_tangential_velocity(panels, freestream, gamma, A_source, B_vortex):\n",
    "    \"\"\"\n",
    "    Computes the tangential surface velocity.\n",
    "    \n",
    "    Parameters\n",
    "    ----------\n",
    "    panels: 1D array of Panel objects\n",
    "        List of panels.\n",
    "    freestream: Freestream object\n",
    "        Freestream conditions.\n",
    "    gamma: float\n",
    "        Circulation density.\n",
    "    A_source: 2D Numpy array of floats\n",
    "        Source contribution matrix for the normal velocity.\n",
    "    B_vortex: 2D Numpy array of floats\n",
    "        Vortex contribution matrix for the normal velocity.\n",
    "    \"\"\"\n",
    "    N = A_source.shape[0]\n",
    "    A = numpy.empty((N, N+2), dtype=float)\n",
    "    # matrix of source contribution on tangential velocity\n",
    "    # is the same than\n",
    "    # matrix of vortex contribution on normal velocity\n",
    "    A[:, :-2] = B_vortex\n",
    "    # matrix of vortex contribution on tangential velocity\n",
    "    # is the opposite of\n",
    "    # matrix of source contribution on normal velocity\n",
    "    A[:, -2] = -numpy.sum(A_source[:,:int(N/2)], axis=1)\n",
    "    A[:, -1] = -numpy.sum(A_source[:,int(N/2):], axis=1)\n",
    "    # freestream contribution\n",
    "    b = freestream.u_inf*numpy.sin([freestream.alpha-panel.beta \n",
    "                                    for panel in panels])\n",
    "    \n",
    "    strengths = numpy.append([panel.sigma for panel in panels], gamma)\n",
    "    \n",
    "    tangential_velocities = numpy.dot(A, strengths) + b\n",
    "    \n",
    "    for i, panel in enumerate(panels):\n",
    "        panel.vt = tangential_velocities[i]"
   ]
  },
  {
   "cell_type": "code",
   "execution_count": 23,
   "metadata": {
    "collapsed": true
   },
   "outputs": [],
   "source": [
    "def compute_pressure_coefficient(panels, freestream):\n",
    "    \"\"\"\n",
    "    Computes the surface pressure coefficients.\n",
    "    \n",
    "    Parameters\n",
    "    ----------\n",
    "    panels: 1D array of Panel objects\n",
    "        List of panels.\n",
    "    freestream: Freestream object\n",
    "        Freestream conditions.\n",
    "    \"\"\"\n",
    "    for panel in panels:\n",
    "        panel.cp = 1.0 - (panel.vt/freestream.u_inf)**2"
   ]
  },
  {
   "cell_type": "code",
   "execution_count": 24,
   "metadata": {
    "collapsed": false
   },
   "outputs": [],
   "source": [
    "compute_tangential_velocity(panels,freestream,gamma,A_source,B_vortex)\n",
    "compute_pressure_coefficient(panels,freestream)"
   ]
  },
  {
   "cell_type": "code",
   "execution_count": 25,
   "metadata": {
    "collapsed": false
   },
   "outputs": [
    {
     "data": {
      "text/plain": [
       "(-12, 2.0)"
      ]
     },
     "execution_count": 25,
     "metadata": {},
     "output_type": "execute_result"
    },
    {
     "data": {
      "image/png": "[encoded data removed]",
      "text/plain": [
       "<matplotlib.figure.Figure at 0x7f0ad6372fd0>"
      ]
     },
     "metadata": {},
     "output_type": "display_data"
    }
   ],
   "source": [
    "# plot surface pressure coefficient\n",
    "N = panels.size\n",
    "air,flap = panels[:int(N/2)] , panels[int(N/2):]\n",
    "pyplot.figure(figsize=(10, 6))\n",
    "pyplot.grid()\n",
    "pyplot.xlabel('$x$', fontsize=16)\n",
    "pyplot.ylabel('$C_p$', fontsize=16)\n",
    "pyplot.plot([panel.xc for panel in  air],\n",
    "            [panel.cp for panel in  air],\n",
    "            label='Airfoil',\n",
    "            color='r', linestyle='-', linewidth=2, marker='o', markersize=6)\n",
    "pyplot.plot([panel.xc for panel in  flap],\n",
    "            [panel.cp for panel in  flap],\n",
    "            label= 'Flap',\n",
    "            color='b', linestyle='-', linewidth=1, marker='o', markersize=6)\n",
    "pyplot.legend(loc='best', prop={'size':16})\n",
    "pyplot.xlim(-0.1, 1.4)\n",
    "pyplot.ylim(-12, 2.0)\n"
   ]
  },
  {
   "cell_type": "markdown",
   "metadata": {},
   "source": [
    "Solutions"
   ]
  },
  {
   "cell_type": "code",
   "execution_count": 26,
   "metadata": {
    "collapsed": false
   },
   "outputs": [
    {
     "name": "stdout",
     "output_type": "stream",
     "text": [
      "-0.958725601669 -0.288367217005\n"
     ]
    }
   ],
   "source": [
    "sol1 = air[2].cp\n",
    "sol2 = flap[9].cp\n",
    "print(sol1,sol2)"
   ]
  },
  {
   "cell_type": "code",
   "execution_count": 27,
   "metadata": {
    "collapsed": false
   },
   "outputs": [
    {
     "name": "stdout",
     "output_type": "stream",
     "text": [
      "3.70742227964 0.0105518831348\n"
     ]
    }
   ],
   "source": [
    "lift_tot1 = 0\n",
    "drag_tot1 = 0\n",
    "for panel in panels:\n",
    "    lift_tot1 -= panel.cp*panel.length*numpy.sin(panel.beta)\n",
    "    drag_tot1 += panel.cp*panel.length*numpy.cos(panel.beta)\n",
    "print(lift_tot1,drag_tot1)\n",
    "lift_act = 3.7476"
   ]
  },
  {
   "cell_type": "markdown",
   "metadata": {},
   "source": [
    "ReRun at 200 panels per element "
   ]
  },
  {
   "cell_type": "code",
   "execution_count": 28,
   "metadata": {
    "collapsed": true
   },
   "outputs": [],
   "source": [
    "with open(\"resources/MainFoil_N=200.csv\") as filein:\n",
    "    reader = csv.reader(filein, quoting=csv.QUOTE_NONNUMERIC, skipinitialspace = True)\n",
    "    x1, y1 = zip(*reader)\n",
    "    x1 = numpy.asarray(x1)\n",
    "    y1 = numpy.asarray(y1)"
   ]
  },
  {
   "cell_type": "code",
   "execution_count": 29,
   "metadata": {
    "collapsed": true
   },
   "outputs": [],
   "source": [
    "with open(\"resources/FlapFoil_N=200.csv\") as filein:\n",
    "    reader = csv.reader(filein, quoting=csv.QUOTE_NONNUMERIC, skipinitialspace = True)\n",
    "    x2, y2 = zip(*reader)\n",
    "    x2 = numpy.asarray(x2)\n",
    "    y2 = numpy.asarray(y2)"
   ]
  },
  {
   "cell_type": "code",
   "execution_count": 30,
   "metadata": {
    "collapsed": false
   },
   "outputs": [
    {
     "name": "stdout",
     "output_type": "stream",
     "text": [
      "3.72765753063 0.00543857772352\n"
     ]
    }
   ],
   "source": [
    "panels1 = define_panels(x1,y1,N=(x1.size-1))\n",
    "panels2 = define_panels(x2,y2,N=(x2.size-1))\n",
    "panels = numpy.concatenate((panels1, panels2))\n",
    "A_source = source_contribution_normal(panels)\n",
    "B_vortex = vortex_contribution_normal(panels)\n",
    "A = matrix(panels,A_source,B_vortex)\n",
    "b = build_freestream_rhs(panels,freestream)\n",
    "strengths = numpy.linalg.solve(A,b)\n",
    "for i , panel in enumerate(panels):\n",
    "    panel.sigma = strengths[i]\n",
    "gamma = strengths[-2:]\n",
    "compute_tangential_velocity(panels,freestream,gamma,A_source,B_vortex)\n",
    "compute_pressure_coefficient(panels,freestream)\n",
    "lift_tot2 = 0\n",
    "drag_tot2 = 0\n",
    "for panel in panels:\n",
    "    lift_tot2 -= panel.cp*panel.length*numpy.sin(panel.beta)\n",
    "    drag_tot2 += panel.cp*panel.length*numpy.cos(panel.beta)\n",
    "print(lift_tot2,drag_tot2)"
   ]
  },
  {
   "cell_type": "markdown",
   "metadata": {},
   "source": [
    "Improvment Check "
   ]
  },
  {
   "cell_type": "code",
   "execution_count": 31,
   "metadata": {
    "collapsed": false
   },
   "outputs": [
    {
     "name": "stdout",
     "output_type": "stream",
     "text": [
      "improvment is 50.3643581791 %\n"
     ]
    }
   ],
   "source": [
    "diff1 = abs(lift_tot1 - lift_act)\n",
    "diff2 = abs(lift_tot2 - lift_act)\n",
    "percent =  (diff1-diff2)/diff1*100\n",
    "print('improvment is',percent,'%')"
   ]
  },
  {
   "cell_type": "markdown",
   "metadata": {},
   "source": [
    "Part2"
   ]
  },
  {
   "cell_type": "code",
   "execution_count": 34,
   "metadata": {
    "collapsed": false
   },
   "outputs": [
    {
     "data": {
      "image/png": "[encoded data removed]",
      "text/plain": [
       "<matplotlib.figure.Figure at 0x7f0ad1ca8c18>"
      ]
     },
     "metadata": {},
     "output_type": "display_data"
    }
   ],
   "source": [
    "with open(\"resources/NACA23012_MainFoil.csv\") as filein:\n",
    "    reader = csv.reader(filein, quoting=csv.QUOTE_NONNUMERIC, skipinitialspace = True)\n",
    "    x1, y1 = zip(*reader)\n",
    "    x1 = numpy.asarray(x1)\n",
    "    y1 = numpy.asarray(y1)\n",
    "with open(\"resources/NACA23012_FlapFoil.csv\") as filein:\n",
    "    reader = csv.reader(filein, quoting=csv.QUOTE_NONNUMERIC, skipinitialspace = True)\n",
    "    x2, y2 = zip(*reader)\n",
    "    x2 = numpy.asarray(x2)\n",
    "    y2 = numpy.asarray(y2)\n",
    "width = 10\n",
    "pyplot.figure(figsize=(width, width))\n",
    "pyplot.grid()\n",
    "pyplot.xlabel('x', fontsize=16)\n",
    "pyplot.ylabel('y', fontsize=16)\n",
    "pyplot.plot(x1, y1, x2, y2, color='k', linestyle='-', linewidth=2)\n",
    "pyplot.axis('scaled', adjustable='box')\n",
    "pyplot.xlim(-.1, 1.5);\n",
    "pyplot.ylim(-.1, .1);"
   ]
  },
  {
   "cell_type": "code",
   "execution_count": 35,
   "metadata": {
    "collapsed": true
   },
   "outputs": [],
   "source": [
    "def rotation(x,y,xc,yc,theta):\n",
    "    '''rotates a geometery [x,y] by theta about a central point [xc,yc]\n",
    "    Parameters\n",
    "    ----------\n",
    "    x: 1D array of x coordinates\n",
    "    \n",
    "    y: 1D array of y coordinates\n",
    "    \n",
    "    xc: float x coordinate of rotation axis\n",
    "    \n",
    "    xc: float y coordinate of rotation axis\n",
    "    \n",
    "    Returns\n",
    "    -------\n",
    "    x_new : 1D array of rotated x coordinates \n",
    "    y_new : 1D array of rotated y coordinates\n",
    "    \n",
    "    '''\n",
    "    \n",
    "    theta = numpy.pi*theta/180\n",
    "    \n",
    "    x , y = x - xc , y - yc\n",
    "    \n",
    "    x_temp = x*numpy.cos(theta) + y*numpy.sin(theta)\n",
    "    y_temp = y*numpy.cos(theta) - x*numpy.sin(theta)\n",
    "    \n",
    "    x_new , y_new = x_temp + xc , y_temp + yc\n",
    "    \n",
    "    return x_new, y_new  "
   ]
  },
  {
   "cell_type": "code",
   "execution_count": 37,
   "metadata": {
    "collapsed": false
   },
   "outputs": [],
   "source": [
    "xc , yc = 1.03 , -0.054"
   ]
  },
  {
   "cell_type": "code",
   "execution_count": 38,
   "metadata": {
    "collapsed": true
   },
   "outputs": [],
   "source": [
    "x2,y2 = rotation(x2,y2,xc,yc,20)"
   ]
  },
  {
   "cell_type": "code",
   "execution_count": 39,
   "metadata": {
    "collapsed": false
   },
   "outputs": [
    {
     "data": {
      "image/png": "[encoded data removed]",
      "text/plain": [
       "<matplotlib.figure.Figure at 0x7f0ad1c20160>"
      ]
     },
     "metadata": {},
     "output_type": "display_data"
    }
   ],
   "source": [
    "width = 10\n",
    "pyplot.figure(figsize=(width, width))\n",
    "pyplot.grid()\n",
    "pyplot.xlabel('x', fontsize=16)\n",
    "pyplot.ylabel('y', fontsize=16)\n",
    "pyplot.plot(x1, y1, x2, y2, color='k', linestyle='-', linewidth=2)\n",
    "pyplot.axis('scaled', adjustable='box')\n",
    "pyplot.xlim(-.1, 1.5);\n",
    "pyplot.ylim(-.1, .1);"
   ]
  },
  {
   "cell_type": "code",
   "execution_count": 40,
   "metadata": {
    "collapsed": true
   },
   "outputs": [],
   "source": [
    "panels1 = define_panels(x1,y1,N=(x1.size-1))\n",
    "panels2 = define_panels(x2,y2,N=(x2.size-1))\n",
    "panels = numpy.concatenate((panels1, panels2))\n",
    "A_source = source_contribution_normal(panels)\n",
    "B_vortex = vortex_contribution_normal(panels)"
   ]
  },
  {
   "cell_type": "code",
   "execution_count": 59,
   "metadata": {
    "collapsed": false
   },
   "outputs": [
    {
     "name": "stdout",
     "output_type": "stream",
     "text": [
      "1\n",
      "2\n",
      "3\n",
      "-11.375 -0.146095603669 3\n"
     ]
    }
   ],
   "source": [
    "aa_min = -14\n",
    "aa_max = 0\n",
    "aa_mid = (aa_min + aa_max)/2\n",
    "\n",
    "tolerance = .0001\n",
    "difference = 1.0\n",
    "running_total = 0\n",
    "while difference > tolerance:\n",
    "    freestream = Freestream(u_inf=1.0, alpha=aa_mid)\n",
    "    A = matrix(panels,A_source,B_vortex)\n",
    "    b = build_freestream_rhs(panels,freestream)\n",
    "    strengths = numpy.linalg.solve(A,b)\n",
    "    for i , panel in enumerate(panels):\n",
    "        panel.sigma = strengths[i]\n",
    "    gamma = strengths[-2:]\n",
    "    compute_tangential_velocity(panels,freestream,gamma,A_source,B_vortex)\n",
    "    compute_pressure_coefficient(panels,freestream)\n",
    "    lift_tot2 = 0\n",
    "    drag_tot2 = 0\n",
    "    for panel in panels:\n",
    "        lift_tot2 -= panel.cp*panel.length*numpy.sin(panel.beta)\n",
    "        drag_tot2 += panel.cp*panel.length*numpy.cos(panel.beta)\n",
    "    if lift_tot2 > 0.0: \n",
    "        aa_max = aa_mid\n",
    "    else:\n",
    "        aa_min = aa_mid\n",
    "    aa_mid = (aa_min + aa_max)/2\n",
    "    difference = lift_tot2\n",
    "    running_total =  running_total + 1\n",
    "    print(running_total)\n",
    "print(aa_mid,lift_tot2,running_total)"
   ]
  },
  {
   "cell_type": "code",
   "execution_count": null,
   "metadata": {
    "collapsed": true
   },
   "outputs": [],
   "source": []
  }
 ],
 "metadata": {
  "anaconda-cloud": {},
  "kernelspec": {
   "display_name": "Python [default]",
   "language": "python",
   "name": "python3"
  },
  "language_info": {
   "codemirror_mode": {
    "name": "ipython",
    "version": 3
   },
   "file_extension": ".py",
   "mimetype": "text/x-python",
   "name": "python",
   "nbconvert_exporter": "python",
   "pygments_lexer": "ipython3",
   "version": "3.5.2"
  }
 },
 "nbformat": 4,
 "nbformat_minor": 1
}

{
 "cells": [
  {
   "cell_type": "code",
   "execution_count": 1,
   "metadata": {
    "collapsed": false
   },
   "outputs": [],
   "source": [
    "import os\n",
    "import numpy\n",
    "import csv\n",
    "from scipy import integrate, linalg , optimize\n",
    "from matplotlib import pyplot\n",
    "%matplotlib inline"
   ]
  },
  {
   "cell_type": "code",
   "execution_count": 2,
   "metadata": {
    "collapsed": false
   },
   "outputs": [],
   "source": [
    "with open(\"resources/MainFoil_N=100.csv\") as filein:\n",
    "    reader = csv.reader(filein, quoting=csv.QUOTE_NONNUMERIC, skipinitialspace = True)\n",
    "    x1, y1 = zip(*reader)\n",
    "    x1 = numpy.asarray(x1)\n",
    "    y1 = numpy.asarray(y1)"
   ]
  },
  {
   "cell_type": "code",
   "execution_count": 3,
   "metadata": {
    "collapsed": false
   },
   "outputs": [],
   "source": [
    "with open(\"resources/FlapFoil_N=100.csv\") as filein:\n",
    "    reader = csv.reader(filein, quoting=csv.QUOTE_NONNUMERIC, skipinitialspace = True)\n",
    "    x2, y2 = zip(*reader)\n",
    "    x2 = numpy.asarray(x2)\n",
    "    y2 = numpy.asarray(y2)"
   ]
  },
  {
   "cell_type": "code",
   "execution_count": 4,
   "metadata": {
    "collapsed": false
   },
   "outputs": [
    {
     "data": {
      "image/png": "[encoded data removed]",
      "text/plain": [
       "<matplotlib.figure.Figure at 0x7f131597eba8>"
      ]
     },
     "metadata": {},
     "output_type": "display_data"
    }
   ],
   "source": [
    "width = 10\n",
    "pyplot.figure(figsize=(width, width))\n",
    "pyplot.grid()\n",
    "pyplot.xlabel('x', fontsize=16)\n",
    "pyplot.ylabel('y', fontsize=16)\n",
    "pyplot.plot(x1, y1, x2, y2, color='k', linestyle='-', linewidth=2)\n",
    "pyplot.axis('scaled', adjustable='box')\n",
    "pyplot.xlim(-.1, 1.5);\n",
    "pyplot.ylim(-.25, .1);"
   ]
  },
  {
   "cell_type": "code",
   "execution_count": 5,
   "metadata": {
    "collapsed": true
   },
   "outputs": [],
   "source": [
    "class Panel:\n",
    "    \"\"\"\n",
    "    Contains information related to a panel.\n",
    "    \"\"\"\n",
    "    def __init__(self, xa, ya, xb, yb):\n",
    "        \"\"\"\n",
    "        Initializes the panel.\n",
    "        \n",
    "        Sets the end-points and calculates the center-point, length,\n",
    "        and angle (with the x-axis) of the panel.\n",
    "        Defines if the panel is located on the upper or lower surface of the geometry.\n",
    "        Initializes the source-strength, tangential velocity, and pressure coefficient\n",
    "        of the panel to zero.\n",
    "        \n",
    "        Parameters\n",
    "        ---------_\n",
    "        xa: float\n",
    "            x-coordinate of the first end-point.\n",
    "        ya: float\n",
    "            y-coordinate of the first end-point.\n",
    "        xb: float\n",
    "            x-coordinate of the second end-point.\n",
    "        yb: float\n",
    "            y-coordinate of the second end-point.\n",
    "        \"\"\"\n",
    "        self.xa, self.ya = xa, ya # panel starting-point\n",
    "        self.xb, self.yb = xb, yb # panel ending-point\n",
    "        \n",
    "        self.xc, self.yc = (xa+xb)/2, (ya+yb)/2         # panel center\n",
    "        self.length = numpy.sqrt((xb-xa)**2+(yb-ya)**2) # panel length\n",
    "        \n",
    "        # orientation of panel (angle between x-axis and panel's normal)\n",
    "        if xb-xa <= 0.0:\n",
    "            self.beta = numpy.arccos((yb-ya)/self.length)\n",
    "        elif xb-xa > 0.0:\n",
    "            self.beta = numpy.pi + numpy.arccos(-(yb-ya)/self.length)\n",
    "        \n",
    "        # panel location\n",
    "        if self.beta <= numpy.pi:\n",
    "            self.loc = 'upper' # upper surface\n",
    "        else:\n",
    "            self.loc = 'lower' # lower surface\n",
    "        \n",
    "        self.sigma = 0.0 # source strength\n",
    "        self.vt = 0.0    # tangential velocity\n",
    "        self.cp = 0.0    # pressure coefficient"
   ]
  },
  {
   "cell_type": "code",
   "execution_count": 6,
   "metadata": {
    "collapsed": true
   },
   "outputs": [],
   "source": [
    "def define_panels(x, y):\n",
    "    \"\"\"\n",
    "    Discretizes the geometry into panels eveningly over the surface of the geometery \n",
    "    \n",
    "    Parameters\n",
    "    ----------\n",
    "    x: 1D array of floats\n",
    "        x-coordinate of the points defining the geometry.\n",
    "    y: 1D array of floats\n",
    "        y-coordinate of the points defining the geometry.\n",
    "    N: integer, optional\n",
    "        Number of panels;\n",
    "        default: 40.\n",
    "    \n",
    "    Returns\n",
    "    -------\n",
    "    panels: 1D Numpy array of Panel objects.\n",
    "        The list of panels.\n",
    "    \"\"\"\n",
    "    \n",
    "    # create panels\n",
    "    N = x.size-1\n",
    "    panels = numpy.empty(N, dtype=object)\n",
    "    \n",
    "\n",
    "    \n",
    "    for i in range(N):\n",
    "        panels[i] = Panel(x[i], y[i], x[i+1], y[i+1])\n",
    "    \n",
    "    return panels"
   ]
  },
  {
   "cell_type": "code",
   "execution_count": 7,
   "metadata": {
    "collapsed": false
   },
   "outputs": [],
   "source": [
    "panels1 = define_panels(x1,y1)\n",
    "panels2 = define_panels(x2,y2)\n",
    "panels = numpy.concatenate((panels1, panels2))"
   ]
  },
  {
   "cell_type": "code",
   "execution_count": 8,
   "metadata": {
    "collapsed": false
   },
   "outputs": [
    {
     "data": {
      "image/png": "[encoded data removed]",
      "text/plain": [
       "<matplotlib.figure.Figure at 0x7f1315ec1208>"
      ]
     },
     "metadata": {},
     "output_type": "display_data"
    }
   ],
   "source": [
    "width = 10\n",
    "pyplot.figure(figsize=(width, width))\n",
    "pyplot.grid()\n",
    "pyplot.xlabel('x', fontsize=16)\n",
    "pyplot.ylabel('y', fontsize=16)\n",
    "pyplot.plot(x1, y1,x2,y2, color='k', linestyle='-', linewidth=2)\n",
    "pyplot.scatter([panel.xa for panel in panels1],[panel.ya for panel in panels1], color='#CD2305')\n",
    "pyplot.scatter([panel.xa for panel in panels2],[panel.ya for panel in panels2],color='#CD2305'),\n",
    "pyplot.axis('scaled', adjustable='box')\n",
    "pyplot.xlim(-0.1, 1.4)\n",
    "pyplot.ylim(-0.25, 0.1);"
   ]
  },
  {
   "cell_type": "code",
   "execution_count": 9,
   "metadata": {
    "collapsed": true
   },
   "outputs": [],
   "source": [
    "class Freestream:\n",
    "    \"\"\"\n",
    "    Freestream conditions.\n",
    "    \"\"\"\n",
    "    def __init__(self, u_inf=1.0, alpha=0.0):\n",
    "        \"\"\"\n",
    "        Sets the freestream speed and angle (in degrees).\n",
    "        \n",
    "        Parameters\n",
    "        ----------\n",
    "        u_inf: float, optional\n",
    "            Freestream speed;\n",
    "            default: 1.0.\n",
    "        alpha: float, optional\n",
    "            Angle of attack in degrees;\n",
    "            default 0.0.\n",
    "        \"\"\"\n",
    "        self.u_inf = u_inf\n",
    "        self.alpha = alpha*numpy.pi/180.0 # degrees to radians"
   ]
  },
  {
   "cell_type": "code",
   "execution_count": 10,
   "metadata": {
    "collapsed": false
   },
   "outputs": [],
   "source": [
    "# set freestream\n",
    "# define freestream conditions\n",
    "freestream = Freestream(u_inf=1.0, alpha=0.0)"
   ]
  },
  {
   "cell_type": "code",
   "execution_count": 11,
   "metadata": {
    "collapsed": true
   },
   "outputs": [],
   "source": [
    "def integral(x, y, panel, dxdk, dydk):\n",
    "    \"\"\"\n",
    "    Evaluates the contribution from a panel at a given point.\n",
    "    \n",
    "    Parameters\n",
    "    ----------\n",
    "    x: float\n",
    "        x-coordinate of the target point.\n",
    "    y: float\n",
    "        y-coordinate of the target point.\n",
    "    panel: Panel object\n",
    "        Panel whose contribution is evaluated.\n",
    "    dxdk: float\n",
    "        Value of the derivative of x in a certain direction.\n",
    "    dydk: float\n",
    "        Value of the derivative of y in a certain direction.\n",
    "    \n",
    "    Returns\n",
    "    -------\n",
    "    Contribution from the panel at a given point (x, y).\n",
    "    \"\"\"\n",
    "    def integrand(s):\n",
    "        return  ( ((x - (panel.xa - numpy.sin(panel.beta)*s))*dxdk\n",
    "                  +(y - (panel.ya + numpy.cos(panel.beta)*s))*dydk)\n",
    "                / ((x - (panel.xa - numpy.sin(panel.beta)*s))**2\n",
    "                  +(y - (panel.ya + numpy.cos(panel.beta)*s))**2) )\n",
    "    return integrate.quad(integrand, 0.0, panel.length)[0]"
   ]
  },
  {
   "cell_type": "code",
   "execution_count": 12,
   "metadata": {
    "collapsed": true
   },
   "outputs": [],
   "source": [
    "def source_contribution_normal(panels):\n",
    "    \"\"\"\n",
    "    Builds the source contribution matrix for the normal velocity.\n",
    "    \n",
    "    Parameters\n",
    "    ----------\n",
    "    panels: 1D array of Panel objects\n",
    "        List of panels.\n",
    "    \n",
    "    Returns\n",
    "    -------\n",
    "    A: 2D Numpy array of floats\n",
    "        Source contribution matrix.\n",
    "    \"\"\"\n",
    "    A = numpy.empty((panels.size, panels.size), dtype=float)\n",
    "    # source contribution on a panel from itself\n",
    "    numpy.fill_diagonal(A, 0.5)\n",
    "    # source contribution on a panel from others\n",
    "    for i, panel_i in enumerate(panels):\n",
    "        for j, panel_j in enumerate(panels):\n",
    "            if i != j:\n",
    "                A[i, j] = 0.5/numpy.pi*integral(panel_i.xc, panel_i.yc, \n",
    "                                                panel_j,\n",
    "                                                numpy.cos(panel_i.beta),\n",
    "                                                numpy.sin(panel_i.beta))\n",
    "    return A"
   ]
  },
  {
   "cell_type": "code",
   "execution_count": 13,
   "metadata": {
    "collapsed": true
   },
   "outputs": [],
   "source": [
    "def vortex_contribution_normal(panels):\n",
    "    \"\"\"\n",
    "    Builds the vortex contribution matrix for the normal velocity.\n",
    "    \n",
    "    Parameters\n",
    "    ----------\n",
    "    panels: 1D array of Panel objects\n",
    "        List of panels.\n",
    "    \n",
    "    Returns\n",
    "    -------\n",
    "    A: 2D Numpy array of floats\n",
    "        Vortex contribution matrix.\n",
    "    \"\"\"\n",
    "    A = numpy.empty((panels.size, panels.size), dtype=float)\n",
    "    # vortex contribution on a panel from itself\n",
    "    numpy.fill_diagonal(A, 0.0)\n",
    "    # vortex contribution on a panel from others\n",
    "    for i, panel_i in enumerate(panels):\n",
    "        for j, panel_j in enumerate(panels):\n",
    "            if i != j:\n",
    "                A[i, j] = -0.5/numpy.pi*integral(panel_i.xc, panel_i.yc, \n",
    "                                                 panel_j,\n",
    "                                                 numpy.sin(panel_i.beta),\n",
    "                                                 -numpy.cos(panel_i.beta))\n",
    "    return A"
   ]
  },
  {
   "cell_type": "code",
   "execution_count": 14,
   "metadata": {
    "collapsed": false
   },
   "outputs": [],
   "source": [
    "A_source = source_contribution_normal(panels)\n",
    "B_vortex = vortex_contribution_normal(panels)"
   ]
  },
  {
   "cell_type": "code",
   "execution_count": 15,
   "metadata": {
    "collapsed": false
   },
   "outputs": [],
   "source": [
    "def matrix(panels,A_source,B_vortex):\n",
    "    \n",
    "    N = A_source.shape[0]\n",
    "    A = numpy.empty((N+2,N+2),dtype=float)\n",
    "    At = numpy.zeros((N,N+2),dtype=float)\n",
    "    Av = numpy.empty((N,2),dtype=float)\n",
    "    test1 = numpy.zeros((N),dtype=float)\n",
    "    test2 = numpy.zeros((N),dtype=float)\n",
    "    Ak = numpy.empty((2,N+2),dtype=float)\n",
    "    \n",
    "    \n",
    "    A[:N,:N] = A_source\n",
    "    \n",
    "    for i, panel  in enumerate(panels):\n",
    "        Av[i,0] = numpy.sum(B_vortex[i,:int(N/2)])\n",
    "        Av[i,1] = numpy.sum(B_vortex[i,int(N/2):])\n",
    "    A[:N,N:] = Av\n",
    "\n",
    "    \n",
    "    At[:N,:N] = B_vortex\n",
    "    for i, panel in enumerate(panels):\n",
    "        test1[i] = numpy.sum(A_source[i,:int(N/2)])\n",
    "        test2[i] = numpy.sum(A_source[i,int(N/2):])\n",
    "    At[:,-2] = -test1\n",
    "    At[:,-1] = -test2\n",
    "\n",
    "    Ak[0,:] = At[0,:] + At[int(N/2)-1,:]\n",
    "    Ak[1,:] = At[int(N/2),:] + At[-1,:]\n",
    "    \n",
    "    A[N:,:] = Ak\n",
    "    \n",
    "    return A"
   ]
  },
  {
   "cell_type": "code",
   "execution_count": 16,
   "metadata": {
    "collapsed": true
   },
   "outputs": [],
   "source": [
    "def build_freestream_rhs(panels, freestream):\n",
    "    \"\"\"\n",
    "    Builds the right-hand side of the system \n",
    "    arising from the freestream contribution.\n",
    "    \n",
    "    Parameters\n",
    "    ----------\n",
    "    panels: 1D array of Panel objects\n",
    "        List of panels.\n",
    "    freestream: Freestream object\n",
    "        Freestream conditions.\n",
    "    \n",
    "    Returns\n",
    "    -------\n",
    "    b: 1D Numpy array of floats\n",
    "        Freestream contribution on each panel and on the Kutta condition.\n",
    "    \"\"\"\n",
    "    N = numpy.shape(panels)[0]\n",
    "    b = numpy.empty(N+2,dtype=float)\n",
    "    # freestream contribution on each panel\n",
    "    for i, panel in enumerate(panels):\n",
    "        b[i] = -freestream.u_inf * numpy.cos(freestream.alpha - panel.beta)\n",
    "    # freestream contribution on the Kutta condition for airfoil\n",
    "    b[-2] = -freestream.u_inf*( numpy.sin(freestream.alpha-panels[0].beta)\n",
    "                               +numpy.sin(freestream.alpha-panels[int(N/2)-1].beta) )\n",
    "    # freesteam contribution on the Kutta condition for flap\n",
    "    b[-1] = -freestream.u_inf*( numpy.sin(freestream.alpha-panels[int(N/2)].beta)\n",
    "                               +numpy.sin(freestream.alpha-panels[int(N)-1].beta) )\n",
    "    return b"
   ]
  },
  {
   "cell_type": "code",
   "execution_count": 17,
   "metadata": {
    "collapsed": false
   },
   "outputs": [],
   "source": [
    "A = matrix(panels,A_source,B_vortex)\n",
    "b = build_freestream_rhs(panels,freestream)"
   ]
  },
  {
   "cell_type": "code",
   "execution_count": 18,
   "metadata": {
    "collapsed": false
   },
   "outputs": [],
   "source": [
    "strengths = numpy.linalg.solve(A,b)\n",
    "\n",
    "for i , panel in enumerate(panels):\n",
    "    panel.sigma = strengths[i]\n",
    "gamma = strengths[-2:]"
   ]
  },
  {
   "cell_type": "code",
   "execution_count": 19,
   "metadata": {
    "collapsed": true
   },
   "outputs": [],
   "source": [
    "def compute_tangential_velocity(panels, freestream, gamma, A_source, B_vortex):\n",
    "    \"\"\"\n",
    "    Computes the tangential surface velocity.\n",
    "    \n",
    "    Parameters\n",
    "    ----------\n",
    "    panels: 1D array of Panel objects\n",
    "        List of panels.\n",
    "    freestream: Freestream object\n",
    "        Freestream conditions.\n",
    "    gamma: float\n",
    "        Circulation density.\n",
    "    A_source: 2D Numpy array of floats\n",
    "        Source contribution matrix for the normal velocity.\n",
    "    B_vortex: 2D Numpy array of floats\n",
    "        Vortex contribution matrix for the normal velocity.\n",
    "    \"\"\"\n",
    "    N = panels.size\n",
    "    A = numpy.empty((N, N+2), dtype=float)\n",
    "    A[:N, :N] = B_vortex\n",
    "    test1 = numpy.zeros((N),dtype=float)\n",
    "    test2 = numpy.zeros((N),dtype=float)\n",
    "    for i, panel in enumerate(panels):\n",
    "        test1[i] = numpy.sum(A_source[i,:int(N/2)])\n",
    "        test2[i] = numpy.sum(A_source[i,int(N/2):])\n",
    "    A[:,-2] = -test1\n",
    "    A[:,-1] = -test2\n",
    "\n",
    "    b = freestream.u_inf*numpy.sin([freestream.alpha-panel.beta for panel in panels])\n",
    "    \n",
    "    strengths = numpy.append([panel.sigma for panel in panels], gamma)\n",
    "    \n",
    "    tangential_velocities = numpy.dot(A, strengths) + b\n",
    "    \n",
    "    for i, panel in enumerate(panels):\n",
    "        panel.vt = tangential_velocities[i]"
   ]
  },
  {
   "cell_type": "code",
   "execution_count": 20,
   "metadata": {
    "collapsed": true
   },
   "outputs": [],
   "source": [
    "def compute_pressure_coefficient(panels, freestream):\n",
    "    \"\"\"\n",
    "    Computes the surface pressure coefficients.\n",
    "    \n",
    "    Parameters\n",
    "    ----------\n",
    "    panels: 1D array of Panel objects\n",
    "        List of panels.\n",
    "    freestream: Freestream object\n",
    "        Freestream conditions.\n",
    "    \"\"\"\n",
    "    for panel in panels:\n",
    "        panel.cp = 1.0 - (panel.vt/freestream.u_inf)**2"
   ]
  },
  {
   "cell_type": "code",
   "execution_count": 21,
   "metadata": {
    "collapsed": false
   },
   "outputs": [],
   "source": [
    "compute_tangential_velocity(panels,freestream,gamma,A_source,B_vortex)\n",
    "compute_pressure_coefficient(panels,freestream)"
   ]
  },
  {
   "cell_type": "code",
   "execution_count": 22,
   "metadata": {
    "collapsed": false
   },
   "outputs": [
    {
     "data": {
      "text/plain": [
       "(-12, 2.0)"
      ]
     },
     "execution_count": 22,
     "metadata": {},
     "output_type": "execute_result"
    },
    {
     "data": {
      "image/png": "[encoded data removed]",
      "text/plain": [
       "<matplotlib.figure.Figure at 0x7f131576fb00>"
      ]
     },
     "metadata": {},
     "output_type": "display_data"
    }
   ],
   "source": [
    "# plot surface pressure coefficient\n",
    "N = panels.size\n",
    "air,flap = panels[:int(N/2)] , panels[int(N/2):]\n",
    "pyplot.figure(figsize=(10, 6))\n",
    "pyplot.grid()\n",
    "pyplot.xlabel('$x$', fontsize=16)\n",
    "pyplot.ylabel('$C_p$', fontsize=16)\n",
    "pyplot.plot([panel.xc for panel in  air],\n",
    "            [panel.cp for panel in  air],\n",
    "            label='Airfoil',\n",
    "            color='r', linestyle='-', linewidth=2, marker='o', markersize=6)\n",
    "pyplot.plot([panel.xc for panel in  flap],\n",
    "            [panel.cp for panel in  flap],\n",
    "            label= 'Flap',\n",
    "            color='b', linestyle='-', linewidth=1, marker='o', markersize=6)\n",
    "pyplot.legend(loc='best', prop={'size':16})\n",
    "pyplot.xlim(-0.1, 1.4)\n",
    "pyplot.ylim(-12, 2.0)\n"
   ]
  },
  {
   "cell_type": "markdown",
   "metadata": {},
   "source": [
    "Solutions"
   ]
  },
  {
   "cell_type": "code",
   "execution_count": 23,
   "metadata": {
    "collapsed": false
   },
   "outputs": [
    {
     "name": "stdout",
     "output_type": "stream",
     "text": [
      "-0.955701172981 -0.279918398369\n"
     ]
    }
   ],
   "source": [
    "sol1 = air[2].cp\n",
    "sol2 = flap[9].cp\n",
    "print(sol1,sol2)"
   ]
  },
  {
   "cell_type": "code",
   "execution_count": 24,
   "metadata": {
    "collapsed": false
   },
   "outputs": [
    {
     "name": "stdout",
     "output_type": "stream",
     "text": [
      "3.69771447686 0.0107914032459\n"
     ]
    }
   ],
   "source": [
    "lift_tot1 = 0\n",
    "drag_tot1 = 0\n",
    "for panel in panels:\n",
    "    lift_tot1 -= panel.cp*panel.length*numpy.sin(panel.beta)\n",
    "    drag_tot1 += panel.cp*panel.length*numpy.cos(panel.beta)\n",
    "print(lift_tot1,drag_tot1)\n"
   ]
  },
  {
   "cell_type": "markdown",
   "metadata": {},
   "source": [
    "ReRun at 200 panels per element "
   ]
  },
  {
   "cell_type": "code",
   "execution_count": 25,
   "metadata": {
    "collapsed": true
   },
   "outputs": [],
   "source": [
    "with open(\"resources/MainFoil_N=200.csv\") as filein:\n",
    "    reader = csv.reader(filein, quoting=csv.QUOTE_NONNUMERIC, skipinitialspace = True)\n",
    "    x1, y1 = zip(*reader)\n",
    "    x1 = numpy.asarray(x1)\n",
    "    y1 = numpy.asarray(y1)"
   ]
  },
  {
   "cell_type": "code",
   "execution_count": null,
   "metadata": {
    "collapsed": true
   },
   "outputs": [],
   "source": [
    "with open(\"resources/FlapFoil_N=200.csv\") as filein:\n",
    "    reader = csv.reader(filein, quoting=csv.QUOTE_NONNUMERIC, skipinitialspace = True)\n",
    "    x2, y2 = zip(*reader)\n",
    "    x2 = numpy.asarray(x2)\n",
    "    y2 = numpy.asarray(y2)"
   ]
  },
  {
   "cell_type": "code",
   "execution_count": null,
   "metadata": {
    "collapsed": false
   },
   "outputs": [],
   "source": [
    "panels1 = define_panels(x1,y1)\n",
    "panels2 = define_panels(x2,y2)\n",
    "panels = numpy.concatenate((panels1, panels2))\n",
    "A_source = source_contribution_normal(panels)\n",
    "B_vortex = vortex_contribution_normal(panels)\n",
    "A = matrix(panels,A_source,B_vortex)\n",
    "b = build_freestream_rhs(panels,freestream)\n",
    "strengths = numpy.linalg.solve(A,b)\n",
    "for i , panel in enumerate(panels):\n",
    "    panel.sigma = strengths[i]\n",
    "gamma = strengths[-2:]\n",
    "compute_tangential_velocity(panels,freestream,gamma,A_source,B_vortex)\n",
    "compute_pressure_coefficient(panels,freestream)\n",
    "lift_tot2 = 0\n",
    "drag_tot2 = 0\n",
    "for panel in panels:\n",
    "    lift_tot2 -= panel.cp*panel.length*numpy.sin(panel.beta)\n",
    "    drag_tot2 += panel.cp*panel.length*numpy.cos(panel.beta)\n",
    "print(lift_tot2,drag_tot2)"
   ]
  },
  {
   "cell_type": "markdown",
   "metadata": {},
   "source": [
    "Improvment Check "
   ]
  },
  {
   "cell_type": "code",
   "execution_count": null,
   "metadata": {
    "collapsed": false
   },
   "outputs": [],
   "source": [
    "lift_act = 3.7386\n",
    "diff1 = abs(lift_tot1 - lift_act)\n",
    "diff2 = abs(lift_tot2 - lift_act)\n",
    "percent =  (diff1-diff2)/diff1*100\n",
    "print('improvment is',percent,'%')"
   ]
  },
  {
   "cell_type": "markdown",
   "metadata": {},
   "source": [
    "Part2"
   ]
  },
  {
   "cell_type": "code",
   "execution_count": null,
   "metadata": {
    "collapsed": false
   },
   "outputs": [],
   "source": [
    "with open(\"resources/NACA23012_MainFoil.csv\") as filein:\n",
    "    reader = csv.reader(filein, quoting=csv.QUOTE_NONNUMERIC, skipinitialspace = True)\n",
    "    x1, y1 = zip(*reader)\n",
    "    x1 = numpy.asarray(x1)\n",
    "    y1 = numpy.asarray(y1)\n",
    "with open(\"resources/NACA23012_FlapFoil.csv\") as filein:\n",
    "    reader = csv.reader(filein, quoting=csv.QUOTE_NONNUMERIC, skipinitialspace = True)\n",
    "    x2, y2 = zip(*reader)\n",
    "    x2 = numpy.asarray(x2)\n",
    "    y2 = numpy.asarray(y2)\n",
    "width = 10\n",
    "pyplot.figure(figsize=(width, width))\n",
    "pyplot.grid()\n",
    "pyplot.xlabel('x', fontsize=16)\n",
    "pyplot.ylabel('y', fontsize=16)\n",
    "pyplot.plot(x1, y1, x2, y2, color='k', linestyle='-', linewidth=2)\n",
    "pyplot.axis('scaled', adjustable='box')\n",
    "pyplot.xlim(-.1, 1.5);\n",
    "pyplot.ylim(-.1, .1);"
   ]
  },
  {
   "cell_type": "code",
   "execution_count": null,
   "metadata": {
    "collapsed": true
   },
   "outputs": [],
   "source": [
    "def rotation(x,y,xc,yc,theta):\n",
    "    '''rotates a geometery [x,y] by theta about a central point [xc,yc]\n",
    "    Parameters\n",
    "    ----------\n",
    "    x: 1D array of x coordinates\n",
    "    \n",
    "    y: 1D array of y coordinates\n",
    "    \n",
    "    xc: float x coordinate of rotation axis\n",
    "    \n",
    "    xc: float y coordinate of rotation axis\n",
    "    \n",
    "    Returns\n",
    "    -------\n",
    "    x_new : 1D array of rotated x coordinates \n",
    "    y_new : 1D array of rotated y coordinates\n",
    "    \n",
    "    '''\n",
    "    \n",
    "    theta = numpy.pi*theta/180\n",
    "    \n",
    "    x , y = x - xc , y - yc\n",
    "    \n",
    "    x_temp = x*numpy.cos(theta) + y*numpy.sin(theta)\n",
    "    y_temp = y*numpy.cos(theta) - x*numpy.sin(theta)\n",
    "    \n",
    "    x_new , y_new = x_temp + xc , y_temp + yc\n",
    "    \n",
    "    return x_new, y_new  "
   ]
  },
  {
   "cell_type": "code",
   "execution_count": null,
   "metadata": {
    "collapsed": false
   },
   "outputs": [],
   "source": [
    "xc , yc , theta = 1.03 , -0.054 , 20"
   ]
  },
  {
   "cell_type": "code",
   "execution_count": null,
   "metadata": {
    "collapsed": false
   },
   "outputs": [],
   "source": [
    "x2_temp , y2_temp = rotation(x2,y2,xc,yc,theta)"
   ]
  },
  {
   "cell_type": "code",
   "execution_count": null,
   "metadata": {
    "collapsed": false
   },
   "outputs": [],
   "source": [
    "width = 10\n",
    "pyplot.figure(figsize=(width, width))\n",
    "pyplot.grid()\n",
    "pyplot.xlabel('x', fontsize=16)\n",
    "pyplot.ylabel('y', fontsize=16)\n",
    "pyplot.plot(x1, y1, x2, y2, color='k', linestyle='-', linewidth=2)\n",
    "pyplot.axis('scaled', adjustable='box')\n",
    "pyplot.xlim(-.1, 1.5);\n",
    "pyplot.ylim(-.1, .1);"
   ]
  },
  {
   "cell_type": "code",
   "execution_count": null,
   "metadata": {
    "collapsed": false
   },
   "outputs": [],
   "source": [
    "panels1 = define_panels(x1,y1)\n",
    "panels2 = define_panels(x2_temp,y2_temp)\n",
    "panels = numpy.concatenate((panels1, panels2))\n",
    "A_source = source_contribution_normal(panels)\n",
    "B_vortex = vortex_contribution_normal(panels)"
   ]
  },
  {
   "cell_type": "code",
   "execution_count": null,
   "metadata": {
    "collapsed": false
   },
   "outputs": [],
   "source": [
    "aa_min = -14\n",
    "aa_max = 0\n",
    "aa_mid = (aa_min + aa_max)/2\n",
    "\n",
    "tolerance = .0001\n",
    "difference = 1.0\n",
    "running_total = 0\n",
    "while difference > tolerance:\n",
    "    freestream = Freestream(u_inf=1.0, alpha=aa_mid)\n",
    "    A = matrix(panels,A_source,B_vortex)\n",
    "    b = build_freestream_rhs(panels,freestream)\n",
    "    strengths = numpy.linalg.solve(A,b)\n",
    "    for i , panel in enumerate(panels):\n",
    "        panel.sigma = strengths[i]\n",
    "    gamma = strengths[-2:]\n",
    "    compute_tangential_velocity(panels,freestream,gamma,A_source,B_vortex)\n",
    "    compute_pressure_coefficient(panels,freestream)\n",
    "    lift_tot2 = 0\n",
    "    drag_tot2 = 0\n",
    "    for panel in panels:\n",
    "        lift_tot2 -= panel.cp*panel.length*numpy.sin(panel.beta)\n",
    "        drag_tot2 += panel.cp*panel.length*numpy.cos(panel.beta)\n",
    "    if lift_tot2 > 0.0: \n",
    "        aa_max = aa_mid\n",
    "    else:\n",
    "        aa_min = aa_mid\n",
    "    aa_mid = (aa_min + aa_max)/2\n",
    "    difference = abs(aa_max-aa_min)\n",
    "    \n",
    "    running_total =  running_total + 1\n",
    "    print(running_total)\n",
    "print(aa_mid,lift_tot2)"
   ]
  },
  {
   "cell_type": "code",
   "execution_count": null,
   "metadata": {
    "collapsed": false
   },
   "outputs": [],
   "source": [
    "freestream = Freestream(u_inf=1.0, alpha=0)\n",
    "defl_min = -10\n",
    "defl_max = 0\n",
    "defl_mid = (defl_max+defl_min)/2\n",
    "tolerance = .01\n",
    "difference = 1.0\n",
    "running_total = 0\n",
    "\n",
    "\n",
    "while difference > tolerance:\n",
    "    x2_temp , y2_temp = rotation(x2,y2,xc,yc,defl_mid)\n",
    "    panels1 = define_panels(x1,y1)\n",
    "    panels2 = define_panels(x2_temp,y2_temp)\n",
    "    panels = numpy.concatenate((panels1, panels2))\n",
    "    A_source = source_contribution_normal(panels)\n",
    "    B_vortex = vortex_contribution_normal(panels)\n",
    "    A = matrix(panels,A_source,B_vortex)\n",
    "    b = build_freestream_rhs(panels,freestream)\n",
    "    strengths = numpy.linalg.solve(A,b)\n",
    "    for i , panel in enumerate(panels):\n",
    "        panel.sigma = strengths[i]\n",
    "    gamma = strengths[-2:]\n",
    "    compute_tangential_velocity(panels,freestream,gamma,A_source,B_vortex)\n",
    "    compute_pressure_coefficient(panels,freestream)\n",
    "    lift_tot3 = 0\n",
    "    drag_tot3 = 0\n",
    "    for panel in panels:\n",
    "        lift_tot3 -= panel.cp*panel.length*numpy.sin(panel.beta)\n",
    "        drag_tot3 += panel.cp*panel.length*numpy.cos(panel.beta)\n",
    "    if lift_tot3 > 0.0: \n",
    "        defl_max = defl_mid\n",
    "    else:\n",
    "        defl_min = defl_mid\n",
    "    defl_mid = (defl_min + defl_max)/2\n",
    "    difference = abs(defl_max-defl_min)\n",
    "    running_total =  running_total + 1\n",
    "    print(running_total,defl_mid,lift_tot3)\n",
    "print(defl_mid,lift_tot3)\n"
   ]
  },
  {
   "cell_type": "code",
   "execution_count": null,
   "metadata": {
    "collapsed": false
   },
   "outputs": [],
   "source": [
    "freestream = Freestream(u_inf=1.0,alpha=4)\n",
    "\n",
    "def get_lift(panels,freestream):\n",
    "    \n",
    "    A_source = source_contribution_normal(panels)\n",
    "    B_vortex = vortex_contribution_normal(panels)\n",
    "    A = matrix(panels,A_source,B_vortex)\n",
    "    b = build_freestream_rhs(panels,freestream)\n",
    "    strengths = numpy.linalg.solve(A,b)\n",
    "    for i , panel in enumerate(panels):\n",
    "        panel.sigma = strengths[i]\n",
    "    gamma = strengths[-2:]\n",
    "    compute_tangential_velocity(panels,freestream,gamma,A_source,B_vortex)\n",
    "    compute_pressure_coefficient(panels,freestream)\n",
    "    lift_tot = 0\n",
    "    drag_tot = 0\n",
    "    for panel in panels:\n",
    "        lift_tot -= panel.cp*panel.length*numpy.sin(panel.beta)\n",
    "\n",
    "    return lift_tot\n",
    "    \n",
    "    \n",
    "    \n"
   ]
  },
  {
   "cell_type": "code",
   "execution_count": null,
   "metadata": {
    "collapsed": false
   },
   "outputs": [],
   "source": [
    "theta = 0\n",
    "x2_temp , y2_temp = rotation(x2,y2,xc,yc,theta)\n",
    "panels1 = define_panels(x1,y1)\n",
    "panels2 = define_panels(x2_temp,y2_temp)\n",
    "panels = numpy.concatenate((panels1, panels2))\n",
    "lift_0 = get_lift(panels,freestream)\n",
    "print('lift at angle 0 =',lift_0)\n",
    "theta = 5\n",
    "x2_temp , y2_temp = rotation(x2,y2,xc,yc,theta)\n",
    "panels1 = define_panels(x1,y1)\n",
    "panels2 = define_panels(x2_temp,y2_temp)\n",
    "panels = numpy.concatenate((panels1, panels2))\n",
    "lift_5 = get_lift(panels,freestream)\n",
    "print('lift at angle 5 =',lift_5)\n",
    "theta = 10\n",
    "x2_temp , y2_temp = rotation(x2,y2,xc,yc,theta)\n",
    "panels1 = define_panels(x1,y1)\n",
    "panels2 = define_panels(x2_temp,y2_temp)\n",
    "panels = numpy.concatenate((panels1, panels2))\n",
    "lift_10 = get_lift(panels,freestream)\n",
    "print('lift at angle 10 =',lift_10)\n",
    "theta = 15\n",
    "x2_temp , y2_temp = rotation(x2,y2,xc,yc,theta)\n",
    "panels1 = define_panels(x1,y1)\n",
    "panels2 = define_panels(x2_temp,y2_temp)\n",
    "panels = numpy.concatenate((panels1, panels2))\n",
    "lift_15 = get_lift(panels,freestream)\n",
    "print('lift at angle 15 =',lift_15)\n"
   ]
  },
  {
   "cell_type": "code",
   "execution_count": null,
   "metadata": {
    "collapsed": true
   },
   "outputs": [],
   "source": []
  },
  {
   "cell_type": "code",
   "execution_count": null,
   "metadata": {
    "collapsed": false
   },
   "outputs": [],
   "source": [
    "# lift = v^2*cl => if cl down by 50% v must go up by sqrt(50%)\n",
    "\n",
    "l5 = (1-numpy.sqrt(lift_0/lift_5))*100\n",
    "l10 = (1-numpy.sqrt(lift_0/lift_10))*100\n",
    "l15 = (1-numpy.sqrt(lift_0/lift_15))*100\n",
    "                             \n",
    "print(l5, '%')\n",
    "print(l10, '%')\n",
    "print(l15, '%')"
   ]
  },
  {
   "cell_type": "code",
   "execution_count": null,
   "metadata": {
    "collapsed": true
   },
   "outputs": [],
   "source": []
  }
 ],
 "metadata": {
  "anaconda-cloud": {},
  "kernelspec": {
   "display_name": "Python [default]",
   "language": "python",
   "name": "python3"
  },
  "language_info": {
   "codemirror_mode": {
    "name": "ipython",
    "version": 3
   },
   "file_extension": ".py",
   "mimetype": "text/x-python",
   "name": "python",
   "nbconvert_exporter": "python",
   "pygments_lexer": "ipython3",
   "version": "3.5.2"
  }
 },
 "nbformat": 4,
 "nbformat_minor": 1
}
